{
 "cells": [
  {
   "cell_type": "code",
   "execution_count": 23,
   "metadata": {},
   "outputs": [],
   "source": [
    "import os \n",
    "import re "
   ]
  },
  {
   "cell_type": "code",
   "execution_count": 89,
   "metadata": {},
   "outputs": [
    {
     "data": {
      "text/plain": [
       "936063"
      ]
     },
     "execution_count": 89,
     "metadata": {},
     "output_type": "execute_result"
    }
   ],
   "source": [
    "with open(\"data/input_01.txt\", \"r\") as f: \n",
    "    data = f.read()\n",
    "\n",
    "# split the data in two lists\n",
    "data_list = data.split(\"\\n\")\n",
    "pattern = \"\\d+\\n\"\n",
    "space = \"   \"\n",
    "\n",
    "cleared_list = []\n",
    "left_list = []\n",
    "right_list = []\n",
    "\n",
    "\n",
    "# cut out the spaces \n",
    "for x in data_list: \n",
    "    cleared_list.append(x.split(\"   \"))\n",
    "\n",
    "for x in cleared_list[:-1]: \n",
    "    left_list.append(x[0]) \n",
    "    right_list.append(x[1]) \n",
    "\n",
    "left_list = list(map(int, left_list))\n",
    "right_list = list(map(int, right_list))\n",
    "\n",
    "left_list.sort()\n",
    "right_list.sort()\n",
    "\n",
    "distances = [x - y if x > y else y - x for x, y in zip(left_list, right_list)]\n",
    "res = sum(distances)\n",
    "res"
   ]
  }
 ],
 "metadata": {
  "kernelspec": {
   "display_name": ".venv",
   "language": "python",
   "name": "python3"
  },
  "language_info": {
   "codemirror_mode": {
    "name": "ipython",
    "version": 3
   },
   "file_extension": ".py",
   "mimetype": "text/x-python",
   "name": "python",
   "nbconvert_exporter": "python",
   "pygments_lexer": "ipython3",
   "version": "3.10.12"
  }
 },
 "nbformat": 4,
 "nbformat_minor": 2
}
